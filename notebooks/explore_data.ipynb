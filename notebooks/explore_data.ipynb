import pandas as pd
import matplotlib.pyplot as plt

df = pd.read_csv('../data/AAPL.csv', index_col='Date', parse_dates=True)
df['Close'].plot(title='AAPL Close Price')
plt.show()